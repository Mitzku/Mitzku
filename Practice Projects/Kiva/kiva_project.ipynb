{
 "cells": [
  {
   "cell_type": "markdown",
   "metadata": {},
   "source": [
    "# Visualizing Loans Awarded by Kiva\n",
    "\n",
    "In this project you'll visualize insights using a dataset from <a href = \"https://www.kaggle.com/fkosmowski/kivadhsv1\" target = \"_blank\">Kaggle</a>. The dataset contains information about loans awarded by the non-profit <a href = \"https://www.kiva.org/\" target = \"_blank\">Kiva</a>. \n",
    "\n",
    "Using Seaborn, you'll explore the average loan amount by country using aggregated bar charts. You'll also visualize the distribution of loan amounts by project type and gender using box plots and violin plots.\n",
    "\n",
    "Some of the steps below will have  hints that you can access if you need them. Hints will look like this:\n",
    "<br>\n",
    "<br>\n",
    "<details>\n",
    "<summary>Hint (click me)</summary>\n",
    "<br>\n",
    "I'm a hint!\n",
    "<br>\n",
    "</details>"
   ]
  },
  {
   "cell_type": "markdown",
   "metadata": {},
   "source": [
    "**A Note On `plt.show()`:** You may be used to displaying your plots using the code `plt.show()`. This IPython Jupyter notebook removes the necessity of calling `plt.show()` after each plot. You should be able to render your Seaborn plots simply by running the cell with the code for your plot. If you have issues rendering your plot you can try adding `plt.show()` to a cell."
   ]
  },
  {
   "cell_type": "markdown",
   "metadata": {},
   "source": [
    "## Step 1: Import Necessary Python Modules\n",
    "Import the modules that you'll be using in this project:\n",
    "- `from matplotlib import pyplot as plt`\n",
    "- `import pandas as pd`\n",
    "- `import seaborn as sns`"
   ]
  },
  {
   "cell_type": "code",
   "execution_count": 3,
   "metadata": {},
   "outputs": [],
   "source": [
    "from matplotlib import pyplot as plt\n",
    "import pandas as pd\n",
    "import seaborn as sns"
   ]
  },
  {
   "cell_type": "markdown",
   "metadata": {},
   "source": [
    "## Step 2: Ingest The Data\n",
    "Load **kiva_data.csv** into a DataFrame called `df`. Then, quickly inspect the DataFrame using `.head()`.\n",
    "<br>\n",
    "<br>\n",
    "<details>\n",
    "<summary>Hint</summary>\n",
    "<br>\n",
    "Use `pd.read_csv()`.\n",
    "<br>\n",
    "</details>"
   ]
  },
  {
   "cell_type": "code",
   "execution_count": 68,
   "metadata": {},
   "outputs": [
    {
     "data": {
      "text/html": [
       "<div>\n",
       "<style scoped>\n",
       "    .dataframe tbody tr th:only-of-type {\n",
       "        vertical-align: middle;\n",
       "    }\n",
       "\n",
       "    .dataframe tbody tr th {\n",
       "        vertical-align: top;\n",
       "    }\n",
       "\n",
       "    .dataframe thead th {\n",
       "        text-align: right;\n",
       "    }\n",
       "</style>\n",
       "<table border=\"1\" class=\"dataframe\">\n",
       "  <thead>\n",
       "    <tr style=\"text-align: right;\">\n",
       "      <th></th>\n",
       "      <th>loan_amount</th>\n",
       "      <th>activity</th>\n",
       "      <th>country</th>\n",
       "      <th>gender</th>\n",
       "    </tr>\n",
       "  </thead>\n",
       "  <tbody>\n",
       "    <tr>\n",
       "      <th>0</th>\n",
       "      <td>625</td>\n",
       "      <td>Food Production/Sales</td>\n",
       "      <td>Pakistan</td>\n",
       "      <td>female</td>\n",
       "    </tr>\n",
       "    <tr>\n",
       "      <th>1</th>\n",
       "      <td>250</td>\n",
       "      <td>Food Production/Sales</td>\n",
       "      <td>Pakistan</td>\n",
       "      <td>female</td>\n",
       "    </tr>\n",
       "    <tr>\n",
       "      <th>2</th>\n",
       "      <td>400</td>\n",
       "      <td>Food Production/Sales</td>\n",
       "      <td>Pakistan</td>\n",
       "      <td>female</td>\n",
       "    </tr>\n",
       "  </tbody>\n",
       "</table>\n",
       "</div>"
      ],
      "text/plain": [
       "   loan_amount               activity   country  gender\n",
       "0          625  Food Production/Sales  Pakistan  female\n",
       "1          250  Food Production/Sales  Pakistan  female\n",
       "2          400  Food Production/Sales  Pakistan  female"
      ]
     },
     "execution_count": 68,
     "metadata": {},
     "output_type": "execute_result"
    }
   ],
   "source": [
    "df = pd.read_csv('kiva_data.csv')\n",
    "df.head(3)"
   ]
  },
  {
   "cell_type": "markdown",
   "metadata": {},
   "source": [
    "## Step 3: Examine The Data\n",
    "\n",
    "If you would like, you can examine the raw CSV file on your local machine. You can find **kiva_data.csv** in the project download folder.\n",
    "\n",
    "### Overview of the dataset:\n",
    "\n",
    "Each entry (row) in the dataset represents a loan that Kiva awarded to a particular project. The `loan_amount` column shows the amount (in U.S. dollars) awarded to the project. The `activity` column has the category type that the project falls under. The `country` column is the country where the project is located. The `gender` column represents the gender of the primary person who applied for the loan. \n",
    "\n",
    "\n",
    "Print the first 25 rows of `df` using `.head()`"
   ]
  },
  {
   "cell_type": "code",
   "execution_count": 5,
   "metadata": {},
   "outputs": [
    {
     "data": {
      "text/html": [
       "<div>\n",
       "<style scoped>\n",
       "    .dataframe tbody tr th:only-of-type {\n",
       "        vertical-align: middle;\n",
       "    }\n",
       "\n",
       "    .dataframe tbody tr th {\n",
       "        vertical-align: top;\n",
       "    }\n",
       "\n",
       "    .dataframe thead th {\n",
       "        text-align: right;\n",
       "    }\n",
       "</style>\n",
       "<table border=\"1\" class=\"dataframe\">\n",
       "  <thead>\n",
       "    <tr style=\"text-align: right;\">\n",
       "      <th></th>\n",
       "      <th>loan_amount</th>\n",
       "      <th>activity</th>\n",
       "      <th>country</th>\n",
       "      <th>gender</th>\n",
       "    </tr>\n",
       "  </thead>\n",
       "  <tbody>\n",
       "    <tr>\n",
       "      <th>0</th>\n",
       "      <td>625</td>\n",
       "      <td>Food Production/Sales</td>\n",
       "      <td>Pakistan</td>\n",
       "      <td>female</td>\n",
       "    </tr>\n",
       "    <tr>\n",
       "      <th>1</th>\n",
       "      <td>250</td>\n",
       "      <td>Food Production/Sales</td>\n",
       "      <td>Pakistan</td>\n",
       "      <td>female</td>\n",
       "    </tr>\n",
       "    <tr>\n",
       "      <th>2</th>\n",
       "      <td>400</td>\n",
       "      <td>Food Production/Sales</td>\n",
       "      <td>Pakistan</td>\n",
       "      <td>female</td>\n",
       "    </tr>\n",
       "    <tr>\n",
       "      <th>3</th>\n",
       "      <td>400</td>\n",
       "      <td>Food Production/Sales</td>\n",
       "      <td>Pakistan</td>\n",
       "      <td>female</td>\n",
       "    </tr>\n",
       "    <tr>\n",
       "      <th>4</th>\n",
       "      <td>500</td>\n",
       "      <td>Food Production/Sales</td>\n",
       "      <td>Pakistan</td>\n",
       "      <td>female</td>\n",
       "    </tr>\n",
       "    <tr>\n",
       "      <th>5</th>\n",
       "      <td>500</td>\n",
       "      <td>Food Production/Sales</td>\n",
       "      <td>Pakistan</td>\n",
       "      <td>female</td>\n",
       "    </tr>\n",
       "    <tr>\n",
       "      <th>6</th>\n",
       "      <td>400</td>\n",
       "      <td>Food Production/Sales</td>\n",
       "      <td>Pakistan</td>\n",
       "      <td>female</td>\n",
       "    </tr>\n",
       "    <tr>\n",
       "      <th>7</th>\n",
       "      <td>500</td>\n",
       "      <td>Food Production/Sales</td>\n",
       "      <td>Pakistan</td>\n",
       "      <td>female</td>\n",
       "    </tr>\n",
       "    <tr>\n",
       "      <th>8</th>\n",
       "      <td>400</td>\n",
       "      <td>Food Production/Sales</td>\n",
       "      <td>Pakistan</td>\n",
       "      <td>female</td>\n",
       "    </tr>\n",
       "    <tr>\n",
       "      <th>9</th>\n",
       "      <td>450</td>\n",
       "      <td>Food Production/Sales</td>\n",
       "      <td>Pakistan</td>\n",
       "      <td>female</td>\n",
       "    </tr>\n",
       "    <tr>\n",
       "      <th>10</th>\n",
       "      <td>250</td>\n",
       "      <td>Food Production/Sales</td>\n",
       "      <td>Pakistan</td>\n",
       "      <td>female</td>\n",
       "    </tr>\n",
       "    <tr>\n",
       "      <th>11</th>\n",
       "      <td>300</td>\n",
       "      <td>Food Production/Sales</td>\n",
       "      <td>Pakistan</td>\n",
       "      <td>female</td>\n",
       "    </tr>\n",
       "    <tr>\n",
       "      <th>12</th>\n",
       "      <td>275</td>\n",
       "      <td>Food Production/Sales</td>\n",
       "      <td>Pakistan</td>\n",
       "      <td>female</td>\n",
       "    </tr>\n",
       "    <tr>\n",
       "      <th>13</th>\n",
       "      <td>425</td>\n",
       "      <td>Food Production/Sales</td>\n",
       "      <td>Pakistan</td>\n",
       "      <td>female</td>\n",
       "    </tr>\n",
       "    <tr>\n",
       "      <th>14</th>\n",
       "      <td>425</td>\n",
       "      <td>Food Production/Sales</td>\n",
       "      <td>Pakistan</td>\n",
       "      <td>female</td>\n",
       "    </tr>\n",
       "    <tr>\n",
       "      <th>15</th>\n",
       "      <td>475</td>\n",
       "      <td>Food Production/Sales</td>\n",
       "      <td>Pakistan</td>\n",
       "      <td>female</td>\n",
       "    </tr>\n",
       "    <tr>\n",
       "      <th>16</th>\n",
       "      <td>225</td>\n",
       "      <td>Food Production/Sales</td>\n",
       "      <td>Pakistan</td>\n",
       "      <td>female</td>\n",
       "    </tr>\n",
       "    <tr>\n",
       "      <th>17</th>\n",
       "      <td>475</td>\n",
       "      <td>Food Production/Sales</td>\n",
       "      <td>Pakistan</td>\n",
       "      <td>female</td>\n",
       "    </tr>\n",
       "    <tr>\n",
       "      <th>18</th>\n",
       "      <td>525</td>\n",
       "      <td>Food Production/Sales</td>\n",
       "      <td>Pakistan</td>\n",
       "      <td>female</td>\n",
       "    </tr>\n",
       "    <tr>\n",
       "      <th>19</th>\n",
       "      <td>425</td>\n",
       "      <td>Food Production/Sales</td>\n",
       "      <td>Pakistan</td>\n",
       "      <td>female</td>\n",
       "    </tr>\n",
       "    <tr>\n",
       "      <th>20</th>\n",
       "      <td>475</td>\n",
       "      <td>Food Production/Sales</td>\n",
       "      <td>Pakistan</td>\n",
       "      <td>female</td>\n",
       "    </tr>\n",
       "    <tr>\n",
       "      <th>21</th>\n",
       "      <td>550</td>\n",
       "      <td>Food Production/Sales</td>\n",
       "      <td>Pakistan</td>\n",
       "      <td>female</td>\n",
       "    </tr>\n",
       "    <tr>\n",
       "      <th>22</th>\n",
       "      <td>450</td>\n",
       "      <td>Food Production/Sales</td>\n",
       "      <td>Pakistan</td>\n",
       "      <td>female</td>\n",
       "    </tr>\n",
       "    <tr>\n",
       "      <th>23</th>\n",
       "      <td>250</td>\n",
       "      <td>Food Production/Sales</td>\n",
       "      <td>Pakistan</td>\n",
       "      <td>female</td>\n",
       "    </tr>\n",
       "    <tr>\n",
       "      <th>24</th>\n",
       "      <td>600</td>\n",
       "      <td>Food Production/Sales</td>\n",
       "      <td>Pakistan</td>\n",
       "      <td>female</td>\n",
       "    </tr>\n",
       "  </tbody>\n",
       "</table>\n",
       "</div>"
      ],
      "text/plain": [
       "    loan_amount               activity   country  gender\n",
       "0           625  Food Production/Sales  Pakistan  female\n",
       "1           250  Food Production/Sales  Pakistan  female\n",
       "2           400  Food Production/Sales  Pakistan  female\n",
       "3           400  Food Production/Sales  Pakistan  female\n",
       "4           500  Food Production/Sales  Pakistan  female\n",
       "5           500  Food Production/Sales  Pakistan  female\n",
       "6           400  Food Production/Sales  Pakistan  female\n",
       "7           500  Food Production/Sales  Pakistan  female\n",
       "8           400  Food Production/Sales  Pakistan  female\n",
       "9           450  Food Production/Sales  Pakistan  female\n",
       "10          250  Food Production/Sales  Pakistan  female\n",
       "11          300  Food Production/Sales  Pakistan  female\n",
       "12          275  Food Production/Sales  Pakistan  female\n",
       "13          425  Food Production/Sales  Pakistan  female\n",
       "14          425  Food Production/Sales  Pakistan  female\n",
       "15          475  Food Production/Sales  Pakistan  female\n",
       "16          225  Food Production/Sales  Pakistan  female\n",
       "17          475  Food Production/Sales  Pakistan  female\n",
       "18          525  Food Production/Sales  Pakistan  female\n",
       "19          425  Food Production/Sales  Pakistan  female\n",
       "20          475  Food Production/Sales  Pakistan  female\n",
       "21          550  Food Production/Sales  Pakistan  female\n",
       "22          450  Food Production/Sales  Pakistan  female\n",
       "23          250  Food Production/Sales  Pakistan  female\n",
       "24          600  Food Production/Sales  Pakistan  female"
      ]
     },
     "execution_count": 5,
     "metadata": {},
     "output_type": "execute_result"
    }
   ],
   "source": [
    "df.head(25)"
   ]
  },
  {
   "cell_type": "markdown",
   "metadata": {},
   "source": [
    "## Step 4: Bar Charts"
   ]
  },
  {
   "cell_type": "markdown",
   "metadata": {},
   "source": [
    "Create a bar plot using Seaborn to visualize the average size of Kiva loans given to projects, by country.\n",
    "\n",
    "We've set up the figure you'll use to plot your bar plot on. The `f` variable gives us access to the figure and `ax` gives us access to the axes.\n",
    "\n",
    "Use `sns.barplot()` with the following arguments:\n",
    "\n",
    "- `data` set to `df`\n",
    "- `x` set to `country`\n",
    "- `y` set to `loan_amount`"
   ]
  },
  {
   "cell_type": "code",
   "execution_count": 6,
   "metadata": {},
   "outputs": [
    {
     "data": {
      "text/plain": [
       "<matplotlib.axes._subplots.AxesSubplot at 0x211739d30c8>"
      ]
     },
     "execution_count": 6,
     "metadata": {},
     "output_type": "execute_result"
    },
    {
     "data": {
      "image/png": "[encoded data removed]",
      "text/plain": [
       "<Figure size 1080x720 with 1 Axes>"
      ]
     },
     "metadata": {
      "needs_background": "light"
     },
     "output_type": "display_data"
    }
   ],
   "source": [
    "# Creates the figure, note: you're only using this syntax so that you can modify the y-axis ticks later\n",
    "f, ax = plt.subplots(figsize=(15, 10))\n",
    "sns.barplot(\n",
    "    data = df,\n",
    "    x= \"country\",\n",
    "    y= \"loan_amount\")\n"
   ]
  },
  {
   "cell_type": "markdown",
   "metadata": {},
   "source": [
    "### Adding `$` units\n",
    "\n",
    "You can use the following code to so that the `loan_amount` ticks on the y-axis begin with a `$` (units of USD). \n",
    "\n",
    "```python\n",
    "import matplotlib.ticker as mtick\n",
    "fmt = '${x:,.0f}'\n",
    "tick = mtick.StrMethodFormatter(fmt)\n",
    "ax.yaxis.set_major_formatter(tick)\n",
    "```"
   ]
  },
  {
   "cell_type": "markdown",
   "metadata": {},
   "source": [
    "Run the code in the cell below to see the `$` in action."
   ]
  },
  {
   "cell_type": "code",
   "execution_count": 7,
   "metadata": {},
   "outputs": [
    {
     "data": {
      "image/png": "[encoded data removed]",
      "text/plain": [
       "<Figure size 1080x720 with 1 Axes>"
      ]
     },
     "metadata": {
      "needs_background": "light"
     },
     "output_type": "display_data"
    }
   ],
   "source": [
    "import matplotlib.ticker as mtick\n",
    "\n",
    "# Creates the figure\n",
    "f, ax = plt.subplots(figsize=(15, 10))\n",
    "\n",
    "# Plot the data\n",
    "sns.barplot(data=df, x=\"country\", y = \"loan_amount\")\n",
    "\n",
    "# Use part of the code above to format the y-axis ticks below this line\n",
    "fmt = '${x:,.0f}'\n",
    "tick = mtick.StrMethodFormatter(fmt)\n",
    "ax.yaxis.set_major_formatter(tick)\n",
    "\n"
   ]
  },
  {
   "cell_type": "markdown",
   "metadata": {},
   "source": [
    "## Step 5: Learn More By Using `hue` In Your Visualization"
   ]
  },
  {
   "cell_type": "markdown",
   "metadata": {},
   "source": [
    "You can visualize even more data on one bar plot by visualizing the loan amount by country, and \"nesting\" by gender. Add the `hue` parameter to your `sns.barplot()` and set it so that the visualization includes the nested category of gender.\n",
    "<br>\n",
    "<br>\n",
    "<details>\n",
    "<summary>Hint</summary>\n",
    "<br>\n",
    "Set `hue` equal to the column name `gender`.\n",
    "<br>\n",
    "</details>"
   ]
  },
  {
   "cell_type": "code",
   "execution_count": 8,
   "metadata": {},
   "outputs": [
    {
     "data": {
      "image/png": "[encoded data removed]",
      "text/plain": [
       "<Figure size 1080x720 with 1 Axes>"
      ]
     },
     "metadata": {
      "needs_background": "light"
     },
     "output_type": "display_data"
    }
   ],
   "source": [
    "# Creates the figure, you're only using this syntax so you can modify the y-axis ticks below\n",
    "f, ax = plt.subplots(figsize=(15, 10))\n",
    "\n",
    "sns.barplot(data=df, x=\"country\", y=\"loan_amount\", hue=\"gender\")\n",
    "\n",
    "fmt = '${x:,.0f}'\n",
    "tick = mtick.StrMethodFormatter(fmt)\n",
    "ax.yaxis.set_major_formatter(tick)"
   ]
  },
  {
   "cell_type": "markdown",
   "metadata": {},
   "source": [
    "#### Reflection Questions"
   ]
  },
  {
   "cell_type": "markdown",
   "metadata": {},
   "source": [
    "On average, do female or male recipients receive larger loans from Kiva?"
   ]
  },
  {
   "cell_type": "code",
   "execution_count": 9,
   "metadata": {},
   "outputs": [
    {
     "data": {
      "text/plain": [
       "<matplotlib.axes._subplots.AxesSubplot at 0x1e020c842c8>"
      ]
     },
     "execution_count": 9,
     "metadata": {},
     "output_type": "execute_result"
    },
    {
     "data": {
      "image/png": "[encoded data removed]",
      "text/plain": [
       "<Figure size 432x288 with 1 Axes>"
      ]
     },
     "metadata": {
      "needs_background": "light"
     },
     "output_type": "display_data"
    }
   ],
   "source": [
    "sns.barplot(data=df, x=\"gender\", y=\"loan_amount\")"
   ]
  },
  {
   "cell_type": "markdown",
   "metadata": {},
   "source": [
    "Which country has the *least* disparity in loan amounts awarded by gender?"
   ]
  },
  {
   "cell_type": "code",
   "execution_count": 73,
   "metadata": {},
   "outputs": [
    {
     "data": {
      "text/plain": [
       "gender  country    \n",
       "female  Cambodia       562.903226\n",
       "        El Salvador    567.454380\n",
       "        Kenya          345.028323\n",
       "        Pakistan       427.987875\n",
       "        Philippines    327.199599\n",
       "male    Cambodia       747.000000\n",
       "        El Salvador    605.599711\n",
       "        Kenya          497.681966\n",
       "        Pakistan       642.129630\n",
       "        Philippines    377.699663\n",
       "Name: loan_amount, dtype: float64"
      ]
     },
     "execution_count": 73,
     "metadata": {},
     "output_type": "execute_result"
    }
   ],
   "source": [
    "df2 = df.groupby(['gender', 'country'])['loan_amount'].mean()\n",
    "\n",
    "df2\n"
   ]
  },
  {
   "cell_type": "markdown",
   "metadata": {},
   "source": [
    "Based on the data, what kind of recommendations can you make to Kiva about the loans they give?"
   ]
  },
  {
   "cell_type": "code",
   "execution_count": null,
   "metadata": {
    "collapsed": true
   },
   "outputs": [],
   "source": [
    "g"
   ]
  },
  {
   "cell_type": "markdown",
   "metadata": {},
   "source": [
    "What actions could be taken to implement the recommendations you've made?"
   ]
  },
  {
   "cell_type": "code",
   "execution_count": null,
   "metadata": {
    "collapsed": true
   },
   "outputs": [],
   "source": [
    "g"
   ]
  },
  {
   "cell_type": "markdown",
   "metadata": {},
   "source": [
    "## Step 6: Styling\n",
    "\n",
    "\n",
    "Set a different color palette using `sns.set_palette()`. You can use any of the Color Brewer qualitative color palettes:\n",
    "\n",
    "- Set1\n",
    "- Set2\n",
    "- Set3\n",
    "- Pastel1\n",
    "- Pastel2\n",
    "- Dark2\n",
    "- Accent\n",
    "\n",
    "You can read more about <a href = \"https://seaborn.pydata.org/tutorial/color_palettes.html#qualitative-color-palettes\" target = \"_blank\">qualitative color palettes in the Seaborn documentation.</a>\n",
    "\n",
    "\n",
    "Set the plot background style using `sns.set_style()`. You can experiment with:\n",
    "- whitegrid\n",
    "- darkgrid\n",
    "- white\n",
    "- dark\n",
    "\n",
    "Set the title using `ax.set_title(\"\")`.\n"
   ]
  },
  {
   "cell_type": "code",
   "execution_count": null,
   "metadata": {},
   "outputs": [],
   "source": [
    "# Set color palette\n",
    "\n",
    "\n",
    "# Set style\n",
    "\n",
    "\n",
    "# Create figure and axes (no need to use the previous syntax, as the y-label ticks aren't going to be formatted)\n",
    "plt.figure(figsize=(25, 15))\n",
    "\n",
    "# Add a title\n",
    "\n",
    "\n",
    "# Use Seaborn to create the bar plot\n",
    "\n"
   ]
  },
  {
   "cell_type": "markdown",
   "metadata": {},
   "source": [
    "## Step 7: Box Plots With Kiva Data\n",
    "\n",
    "So far you have visualized the average size of loans by country using bar charts; now you are going to make a box plot to compare the distribution of loans by country."
   ]
  },
  {
   "cell_type": "markdown",
   "metadata": {},
   "source": [
    "We have set up a figure for you to plot on. Use `sns.boxplot()` to compare the distribution of loan amounts by country for the Kiva dataset.   \n",
    "\n",
    "`sns.boxplot()` can be passed the same parameters as `sns.barplot()`.\n",
    "\n",
    "**Optional:** You may set a new color palette if you would like to continue using `sns.set_palette()`.\n"
   ]
  },
  {
   "cell_type": "code",
   "execution_count": null,
   "metadata": {},
   "outputs": [],
   "source": [
    "plt.figure(figsize=(16, 10))\n",
    "\n",
    "\n"
   ]
  },
  {
   "cell_type": "markdown",
   "metadata": {},
   "source": [
    "#### Reflection Questions\n",
    "\n",
    "Which country's box has the widest distribution?"
   ]
  },
  {
   "cell_type": "code",
   "execution_count": null,
   "metadata": {
    "collapsed": true
   },
   "outputs": [],
   "source": []
  },
  {
   "cell_type": "markdown",
   "metadata": {},
   "source": [
    "In which country would you be most likely to receive the largest loan amount?"
   ]
  },
  {
   "cell_type": "code",
   "execution_count": null,
   "metadata": {
    "collapsed": true
   },
   "outputs": [],
   "source": []
  },
  {
   "cell_type": "markdown",
   "metadata": {},
   "source": [
    "## Step 8: Box Plot by Activity"
   ]
  },
  {
   "cell_type": "markdown",
   "metadata": {},
   "source": [
    "Instead of visualizing the loan amount by *country*, use `sns.boxplot()` to plot the loan amount by *activity*.\n",
    "<br>\n",
    "<br>\n",
    "<details>\n",
    "<summary>Hint</summary>\n",
    "<br>\n",
    "You can use the same code as the box plot above, but the `x` parameter should be set to `\"activity\"`.\n",
    "<br>\n",
    "</details>\n",
    " \n",
    "**Optional:** Set a different plot style and color palette to best visualize this data."
   ]
  },
  {
   "cell_type": "code",
   "execution_count": null,
   "metadata": {},
   "outputs": [],
   "source": [
    "plt.figure(figsize=(16, 10))\n",
    "\n",
    "\n"
   ]
  },
  {
   "cell_type": "markdown",
   "metadata": {},
   "source": [
    "#### Reflection Questions"
   ]
  },
  {
   "cell_type": "markdown",
   "metadata": {},
   "source": [
    "What does this visualization reveal that previous ones did not?"
   ]
  },
  {
   "cell_type": "code",
   "execution_count": null,
   "metadata": {
    "collapsed": true
   },
   "outputs": [],
   "source": []
  },
  {
   "cell_type": "markdown",
   "metadata": {},
   "source": [
    "## Step 9: Violin Plots"
   ]
  },
  {
   "cell_type": "markdown",
   "metadata": {},
   "source": [
    "You can use nearly identical syntax (as you have used for box plots) to create violin plots. Take this line of code from above:\n",
    "\n",
    "```python\n",
    "sns.boxplot(data=df, x=\"activity\", y=\"loan_amount\")\n",
    "```\n",
    "\n",
    "To visualize the distribution of the exact same data as a violin plot you could pass the same parameters to `sns.violinplot()` instead of `sns.boxplot()`.\n",
    "\n",
    "Change the code in the cell below so that the data is plotted as a violin plot instead of a barplot."
   ]
  },
  {
   "cell_type": "code",
   "execution_count": null,
   "metadata": {},
   "outputs": [],
   "source": [
    "plt.figure(figsize=(16, 10))\n",
    "\n",
    "sns.boxplot(data=df, x=\"activity\", y=\"loan_amount\")"
   ]
  },
  {
   "cell_type": "markdown",
   "metadata": {},
   "source": [
    "### Create a violin plot that visualizes the distribution of loan amount by country.\n",
    "Previously, you created a violin plot and plotted the data by _activity_. This time, create a violin plot that plots the data by _country_.\n",
    "\n",
    "<br>\n",
    "<details>\n",
    "<summary>Hint</summary>\n",
    "<br>\n",
    "Change the value of the `x` argument passed into the `violinplot()` function.\n",
    "<br>\n",
    "</details>"
   ]
  },
  {
   "cell_type": "code",
   "execution_count": null,
   "metadata": {},
   "outputs": [],
   "source": [
    "plt.figure(figsize=(16, 10))"
   ]
  },
  {
   "cell_type": "markdown",
   "metadata": {},
   "source": [
    "## Step 10: Split Violin Plots"
   ]
  },
  {
   "cell_type": "markdown",
   "metadata": {},
   "source": [
    "Use the `hue` and `split` parameters with `sns.violinplot()` to visualize the distribution of loan amount by country, split by gender. \n",
    "\n",
    "<br>\n",
    "<details>\n",
    "<summary>Hint</summary>\n",
    "<br>\n",
    "The argument `hue` should be set to `\"gender\"` and `split` should equal `True`. \n",
    "<br>\n",
    "</details>"
   ]
  },
  {
   "cell_type": "code",
   "execution_count": null,
   "metadata": {},
   "outputs": [],
   "source": [
    "# Some styling (feel free to modify)\n",
    "sns.set_palette(\"Spectral\")\n",
    "plt.figure(figsize=(18, 12))"
   ]
  },
  {
   "cell_type": "markdown",
   "metadata": {},
   "source": [
    "#### Reflection Questions"
   ]
  },
  {
   "cell_type": "markdown",
   "metadata": {},
   "source": [
    "What does this visualization reveal about the distribution of loan amounts within countries by gender?"
   ]
  },
  {
   "cell_type": "code",
   "execution_count": null,
   "metadata": {
    "collapsed": true
   },
   "outputs": [],
   "source": []
  },
  {
   "cell_type": "markdown",
   "metadata": {},
   "source": [
    "## You're done! Congratulations!\n",
    "\n",
    "You used Seaborn to visualize insights using a dataset from Kaggle. You explored the average loan amount by country using aggregated bar charts, box plots, and violin plots. You also nested the data by gender, allowing you to draw additional insights from your charts. Congratulations!\n",
    "\n",
    "### How do you feel?"
   ]
  },
  {
   "cell_type": "code",
   "execution_count": null,
   "metadata": {
    "collapsed": true
   },
   "outputs": [],
   "source": []
  }
 ],
 "metadata": {
  "kernelspec": {
   "display_name": "Python 3",
   "language": "python",
   "name": "python3"
  },
  "language_info": {
   "codemirror_mode": {
    "name": "ipython",
    "version": 3
   },
   "file_extension": ".py",
   "mimetype": "text/x-python",
   "name": "python",
   "nbconvert_exporter": "python",
   "pygments_lexer": "ipython3",
   "version": "3.7.6"
  }
 },
 "nbformat": 4,
 "nbformat_minor": 2
}
